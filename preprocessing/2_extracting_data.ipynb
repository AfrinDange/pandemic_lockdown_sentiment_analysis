{
 "cells": [
  {
   "cell_type": "code",
   "execution_count": 9,
   "metadata": {},
   "outputs": [],
   "source": [
    "import pandas as pd\n",
    "\n",
    "my_data = pd.read_csv(\"C:/Users/dange/Desktop/ml_mini_project/datasets_csv/lockdown1_with_headers.csv\")"
   ]
  },
  {
   "cell_type": "code",
   "execution_count": 7,
   "metadata": {},
   "outputs": [],
   "source": [
    "from geopy.geocoders import Nominatim\n",
    "import time"
   ]
  },
  {
   "cell_type": "code",
   "execution_count": 32,
   "metadata": {
    "scrolled": true
   },
   "outputs": [
    {
     "name": "stdout",
     "output_type": "stream",
     "text": [
      "Kolhapur, India\n",
      "place_id \t\t 4758808\n",
      "licence \t\t Data © OpenStreetMap contributors, ODbL 1.0. https://osm.org/copyright\n",
      "osm_type \t\t node\n",
      "osm_id \t\t 593878343\n",
      "boundingbox \t\t ['16.5428412', '16.8628412', '74.0805329', '74.4005329']\n",
      "lat \t\t 16.7028412\n",
      "lon \t\t 74.2405329\n",
      "display_name \t\t Kolhapur, Kolhapur district, Maharashtra, 416003, India\n",
      "class \t\t place\n",
      "type \t\t city\n",
      "importance \t\t 0.6936600033215987\n",
      "icon \t\t https://nominatim.openstreetmap.org/ui/mapicons//poi_place_city.p.20.png\n"
     ]
    }
   ],
   "source": [
    "latitude = []\n",
    "longitude = []\n",
    "loc = my_data.location[1212]\n",
    "print(loc)\n",
    "time.sleep(2)\n",
    "location = geolocator.geocode(loc)\n",
    "for key,val in location.raw.items():\n",
    "    print(key, \"\\t\\t\", val)"
   ]
  },
  {
   "cell_type": "code",
   "execution_count": 33,
   "metadata": {},
   "outputs": [],
   "source": [
    "address = location.raw['display_name']"
   ]
  },
  {
   "cell_type": "code",
   "execution_count": 34,
   "metadata": {},
   "outputs": [
    {
     "data": {
      "text/plain": [
       "str"
      ]
     },
     "execution_count": 34,
     "metadata": {},
     "output_type": "execute_result"
    }
   ],
   "source": [
    "type(address)"
   ]
  },
  {
   "cell_type": "code",
   "execution_count": null,
   "metadata": {},
   "outputs": [],
   "source": []
  }
 ],
 "metadata": {
  "kernelspec": {
   "display_name": "Python 3.7 (tensorflow)",
   "language": "python",
   "name": "tensorflow"
  },
  "language_info": {
   "codemirror_mode": {
    "name": "ipython",
    "version": 3
   },
   "file_extension": ".py",
   "mimetype": "text/x-python",
   "name": "python",
   "nbconvert_exporter": "python",
   "pygments_lexer": "ipython3",
   "version": "3.7.6"
  }
 },
 "nbformat": 4,
 "nbformat_minor": 4
}
